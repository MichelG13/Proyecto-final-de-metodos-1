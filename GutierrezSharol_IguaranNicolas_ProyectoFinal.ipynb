{
 "cells": [
  {
   "cell_type": "code",
   "execution_count": 1,
   "id": "598d24a4",
   "metadata": {},
   "outputs": [
    {
     "name": "stdout",
     "output_type": "stream",
     "text": [
      "Requirement already satisfied: vpython in c:\\users\\sharo\\anaconda3\\lib\\site-packages (7.6.3)\n",
      "Requirement already satisfied: jupyter-server-proxy in c:\\users\\sharo\\anaconda3\\lib\\site-packages (from vpython) (1.1.0)\n",
      "Requirement already satisfied: autobahn>=18.8.2 in c:\\users\\sharo\\anaconda3\\lib\\site-packages (from vpython) (22.4.1)\n",
      "Requirement already satisfied: numpy in c:\\users\\sharo\\anaconda3\\lib\\site-packages (from vpython) (1.20.3)\n",
      "Requirement already satisfied: ipykernel in c:\\users\\sharo\\anaconda3\\lib\\site-packages (from vpython) (6.4.1)\n",
      "Requirement already satisfied: jupyter in c:\\users\\sharo\\anaconda3\\lib\\site-packages (from vpython) (1.0.0)\n",
      "Requirement already satisfied: cryptography>=3.4.6 in c:\\users\\sharo\\anaconda3\\lib\\site-packages (from autobahn>=18.8.2->vpython) (3.4.8)\n",
      "Requirement already satisfied: txaio>=21.2.1 in c:\\users\\sharo\\anaconda3\\lib\\site-packages (from autobahn>=18.8.2->vpython) (21.2.1)\n",
      "Requirement already satisfied: hyperlink>=21.0.0 in c:\\users\\sharo\\anaconda3\\lib\\site-packages (from autobahn>=18.8.2->vpython) (21.0.0)\n",
      "Requirement already satisfied: setuptools in c:\\users\\sharo\\anaconda3\\lib\\site-packages (from autobahn>=18.8.2->vpython) (58.0.4)\n",
      "Requirement already satisfied: cffi>=1.12 in c:\\users\\sharo\\anaconda3\\lib\\site-packages (from cryptography>=3.4.6->autobahn>=18.8.2->vpython) (1.14.6)\n",
      "Requirement already satisfied: pycparser in c:\\users\\sharo\\anaconda3\\lib\\site-packages (from cffi>=1.12->cryptography>=3.4.6->autobahn>=18.8.2->vpython) (2.20)\n",
      "Requirement already satisfied: idna>=2.5 in c:\\users\\sharo\\anaconda3\\lib\\site-packages (from hyperlink>=21.0.0->autobahn>=18.8.2->vpython) (3.2)\n",
      "Requirement already satisfied: jupyter-client<8.0 in c:\\users\\sharo\\anaconda3\\lib\\site-packages (from ipykernel->vpython) (6.1.12)\n",
      "Requirement already satisfied: ipython<8.0,>=7.23.1 in c:\\users\\sharo\\anaconda3\\lib\\site-packages (from ipykernel->vpython) (7.29.0)\n",
      "Requirement already satisfied: debugpy<2.0,>=1.0.0 in c:\\users\\sharo\\anaconda3\\lib\\site-packages (from ipykernel->vpython) (1.4.1)\n",
      "Requirement already satisfied: traitlets<6.0,>=4.1.0 in c:\\users\\sharo\\anaconda3\\lib\\site-packages (from ipykernel->vpython) (5.1.0)\n",
      "Requirement already satisfied: ipython-genutils in c:\\users\\sharo\\anaconda3\\lib\\site-packages (from ipykernel->vpython) (0.2.0)\n",
      "Requirement already satisfied: tornado<7.0,>=4.2 in c:\\users\\sharo\\anaconda3\\lib\\site-packages (from ipykernel->vpython) (6.1)\n",
      "Requirement already satisfied: matplotlib-inline<0.2.0,>=0.1.0 in c:\\users\\sharo\\anaconda3\\lib\\site-packages (from ipykernel->vpython) (0.1.2)\n",
      "Requirement already satisfied: colorama in c:\\users\\sharo\\anaconda3\\lib\\site-packages (from ipython<8.0,>=7.23.1->ipykernel->vpython) (0.4.4)\n",
      "Requirement already satisfied: decorator in c:\\users\\sharo\\anaconda3\\lib\\site-packages (from ipython<8.0,>=7.23.1->ipykernel->vpython) (5.1.0)\n",
      "Requirement already satisfied: backcall in c:\\users\\sharo\\anaconda3\\lib\\site-packages (from ipython<8.0,>=7.23.1->ipykernel->vpython) (0.2.0)\n",
      "Requirement already satisfied: jedi>=0.16 in c:\\users\\sharo\\anaconda3\\lib\\site-packages (from ipython<8.0,>=7.23.1->ipykernel->vpython) (0.18.0)\n",
      "Requirement already satisfied: pickleshare in c:\\users\\sharo\\anaconda3\\lib\\site-packages (from ipython<8.0,>=7.23.1->ipykernel->vpython) (0.7.5)\n",
      "Requirement already satisfied: prompt-toolkit!=3.0.0,!=3.0.1,<3.1.0,>=2.0.0 in c:\\users\\sharo\\anaconda3\\lib\\site-packages (from ipython<8.0,>=7.23.1->ipykernel->vpython) (3.0.20)\n",
      "Requirement already satisfied: pygments in c:\\users\\sharo\\anaconda3\\lib\\site-packages (from ipython<8.0,>=7.23.1->ipykernel->vpython) (2.10.0)\n",
      "Requirement already satisfied: parso<0.9.0,>=0.8.0 in c:\\users\\sharo\\anaconda3\\lib\\site-packages (from jedi>=0.16->ipython<8.0,>=7.23.1->ipykernel->vpython) (0.8.2)\n",
      "Requirement already satisfied: pyzmq>=13 in c:\\users\\sharo\\anaconda3\\lib\\site-packages (from jupyter-client<8.0->ipykernel->vpython) (22.2.1)\n",
      "Requirement already satisfied: jupyter-core>=4.6.0 in c:\\users\\sharo\\anaconda3\\lib\\site-packages (from jupyter-client<8.0->ipykernel->vpython) (4.8.1)\n",
      "Requirement already satisfied: python-dateutil>=2.1 in c:\\users\\sharo\\anaconda3\\lib\\site-packages (from jupyter-client<8.0->ipykernel->vpython) (2.8.2)\n",
      "Requirement already satisfied: pywin32>=1.0 in c:\\users\\sharo\\anaconda3\\lib\\site-packages (from jupyter-core>=4.6.0->jupyter-client<8.0->ipykernel->vpython) (228)\n",
      "Requirement already satisfied: wcwidth in c:\\users\\sharo\\anaconda3\\lib\\site-packages (from prompt-toolkit!=3.0.0,!=3.0.1,<3.1.0,>=2.0.0->ipython<8.0,>=7.23.1->ipykernel->vpython) (0.2.5)\n",
      "Requirement already satisfied: six>=1.5 in c:\\users\\sharo\\anaconda3\\lib\\site-packages (from python-dateutil>=2.1->jupyter-client<8.0->ipykernel->vpython) (1.16.0)\n",
      "Requirement already satisfied: ipywidgets in c:\\users\\sharo\\anaconda3\\lib\\site-packages (from jupyter->vpython) (7.6.5)\n",
      "Requirement already satisfied: nbconvert in c:\\users\\sharo\\anaconda3\\lib\\site-packages (from jupyter->vpython) (6.1.0)\n",
      "Requirement already satisfied: jupyter-console in c:\\users\\sharo\\anaconda3\\lib\\site-packages (from jupyter->vpython) (6.4.0)\n",
      "Requirement already satisfied: notebook in c:\\users\\sharo\\anaconda3\\lib\\site-packages (from jupyter->vpython) (6.4.5)\n",
      "Requirement already satisfied: qtconsole in c:\\users\\sharo\\anaconda3\\lib\\site-packages (from jupyter->vpython) (5.1.1)\n",
      "Requirement already satisfied: jupyterlab-widgets>=1.0.0 in c:\\users\\sharo\\anaconda3\\lib\\site-packages (from ipywidgets->jupyter->vpython) (1.0.0)\n",
      "Requirement already satisfied: nbformat>=4.2.0 in c:\\users\\sharo\\anaconda3\\lib\\site-packages (from ipywidgets->jupyter->vpython) (5.1.3)\n",
      "Requirement already satisfied: widgetsnbextension~=3.5.0 in c:\\users\\sharo\\anaconda3\\lib\\site-packages (from ipywidgets->jupyter->vpython) (3.5.1)\n",
      "Requirement already satisfied: jsonschema!=2.5.0,>=2.4 in c:\\users\\sharo\\anaconda3\\lib\\site-packages (from nbformat>=4.2.0->ipywidgets->jupyter->vpython) (3.2.0)\n",
      "Requirement already satisfied: attrs>=17.4.0 in c:\\users\\sharo\\anaconda3\\lib\\site-packages (from jsonschema!=2.5.0,>=2.4->nbformat>=4.2.0->ipywidgets->jupyter->vpython) (21.2.0)\n",
      "Requirement already satisfied: pyrsistent>=0.14.0 in c:\\users\\sharo\\anaconda3\\lib\\site-packages (from jsonschema!=2.5.0,>=2.4->nbformat>=4.2.0->ipywidgets->jupyter->vpython) (0.18.0)\n",
      "Requirement already satisfied: terminado>=0.8.3 in c:\\users\\sharo\\anaconda3\\lib\\site-packages (from notebook->jupyter->vpython) (0.9.4)\n",
      "Requirement already satisfied: prometheus-client in c:\\users\\sharo\\anaconda3\\lib\\site-packages (from notebook->jupyter->vpython) (0.11.0)\n",
      "Requirement already satisfied: jinja2 in c:\\users\\sharo\\anaconda3\\lib\\site-packages (from notebook->jupyter->vpython) (2.11.3)\n",
      "Requirement already satisfied: argon2-cffi in c:\\users\\sharo\\anaconda3\\lib\\site-packages (from notebook->jupyter->vpython) (20.1.0)\n",
      "Requirement already satisfied: Send2Trash>=1.5.0 in c:\\users\\sharo\\anaconda3\\lib\\site-packages (from notebook->jupyter->vpython) (1.8.0)\n",
      "Requirement already satisfied: pywinpty>=0.5 in c:\\users\\sharo\\anaconda3\\lib\\site-packages (from terminado>=0.8.3->notebook->jupyter->vpython) (0.5.7)\n",
      "Requirement already satisfied: MarkupSafe>=0.23 in c:\\users\\sharo\\anaconda3\\lib\\site-packages (from jinja2->notebook->jupyter->vpython) (1.1.1)\n",
      "Requirement already satisfied: aiohttp in c:\\users\\sharo\\anaconda3\\lib\\site-packages (from jupyter-server-proxy->vpython) (3.8.1)\n",
      "Requirement already satisfied: simpervisor>=0.2 in c:\\users\\sharo\\anaconda3\\lib\\site-packages (from jupyter-server-proxy->vpython) (0.3)\n",
      "Requirement already satisfied: frozenlist>=1.1.1 in c:\\users\\sharo\\anaconda3\\lib\\site-packages (from aiohttp->jupyter-server-proxy->vpython) (1.2.0)\n",
      "Requirement already satisfied: charset-normalizer<3.0,>=2.0 in c:\\users\\sharo\\anaconda3\\lib\\site-packages (from aiohttp->jupyter-server-proxy->vpython) (2.0.4)\n",
      "Requirement already satisfied: multidict<7.0,>=4.5 in c:\\users\\sharo\\anaconda3\\lib\\site-packages (from aiohttp->jupyter-server-proxy->vpython) (5.1.0)\n",
      "Requirement already satisfied: yarl<2.0,>=1.0 in c:\\users\\sharo\\anaconda3\\lib\\site-packages (from aiohttp->jupyter-server-proxy->vpython) (1.6.3)\n",
      "Requirement already satisfied: aiosignal>=1.1.2 in c:\\users\\sharo\\anaconda3\\lib\\site-packages (from aiohttp->jupyter-server-proxy->vpython) (1.2.0)\n",
      "Requirement already satisfied: async-timeout<5.0,>=4.0.0a3 in c:\\users\\sharo\\anaconda3\\lib\\site-packages (from aiohttp->jupyter-server-proxy->vpython) (4.0.1)\n",
      "Requirement already satisfied: typing-extensions>=3.6.5 in c:\\users\\sharo\\anaconda3\\lib\\site-packages (from async-timeout<5.0,>=4.0.0a3->aiohttp->jupyter-server-proxy->vpython) (3.10.0.2)\n",
      "Requirement already satisfied: mistune<2,>=0.8.1 in c:\\users\\sharo\\anaconda3\\lib\\site-packages (from nbconvert->jupyter->vpython) (0.8.4)\n",
      "Requirement already satisfied: defusedxml in c:\\users\\sharo\\anaconda3\\lib\\site-packages (from nbconvert->jupyter->vpython) (0.7.1)\n",
      "Requirement already satisfied: jupyterlab-pygments in c:\\users\\sharo\\anaconda3\\lib\\site-packages (from nbconvert->jupyter->vpython) (0.1.2)\n",
      "Requirement already satisfied: entrypoints>=0.2.2 in c:\\users\\sharo\\anaconda3\\lib\\site-packages (from nbconvert->jupyter->vpython) (0.3)\n",
      "Requirement already satisfied: pandocfilters>=1.4.1 in c:\\users\\sharo\\anaconda3\\lib\\site-packages (from nbconvert->jupyter->vpython) (1.4.3)\n",
      "Requirement already satisfied: testpath in c:\\users\\sharo\\anaconda3\\lib\\site-packages (from nbconvert->jupyter->vpython) (0.5.0)\n",
      "Requirement already satisfied: nbclient<0.6.0,>=0.5.0 in c:\\users\\sharo\\anaconda3\\lib\\site-packages (from nbconvert->jupyter->vpython) (0.5.3)\n",
      "Requirement already satisfied: bleach in c:\\users\\sharo\\anaconda3\\lib\\site-packages (from nbconvert->jupyter->vpython) (4.0.0)\n",
      "Requirement already satisfied: nest-asyncio in c:\\users\\sharo\\anaconda3\\lib\\site-packages (from nbclient<0.6.0,>=0.5.0->nbconvert->jupyter->vpython) (1.5.1)\n",
      "Requirement already satisfied: async-generator in c:\\users\\sharo\\anaconda3\\lib\\site-packages (from nbclient<0.6.0,>=0.5.0->nbconvert->jupyter->vpython) (1.10)\n",
      "Requirement already satisfied: packaging in c:\\users\\sharo\\anaconda3\\lib\\site-packages (from bleach->nbconvert->jupyter->vpython) (21.0)\n",
      "Requirement already satisfied: webencodings in c:\\users\\sharo\\anaconda3\\lib\\site-packages (from bleach->nbconvert->jupyter->vpython) (0.5.1)\n",
      "Requirement already satisfied: pyparsing>=2.0.2 in c:\\users\\sharo\\anaconda3\\lib\\site-packages (from packaging->bleach->nbconvert->jupyter->vpython) (3.0.4)\n",
      "Requirement already satisfied: qtpy in c:\\users\\sharo\\anaconda3\\lib\\site-packages (from qtconsole->jupyter->vpython) (1.10.0)\n",
      "Note: you may need to restart the kernel to use updated packages.\n"
     ]
    }
   ],
   "source": [
    "pip install vpython"
   ]
  },
  {
   "cell_type": "code",
   "execution_count": 2,
   "id": "b7f5d4bb",
   "metadata": {
    "scrolled": true
   },
   "outputs": [
    {
     "data": {
      "text/html": [
       "<div id=\"glowscript\" class=\"glowscript\"></div>"
      ],
      "text/plain": [
       "<IPython.core.display.HTML object>"
      ]
     },
     "metadata": {},
     "output_type": "display_data"
    },
    {
     "data": {
      "application/javascript": [
       "if (typeof Jupyter !== \"undefined\") { window.__context = { glowscript_container: $(\"#glowscript\").removeAttr(\"id\")};}else{ element.textContent = ' ';}"
      ],
      "text/plain": [
       "<IPython.core.display.Javascript object>"
      ]
     },
     "metadata": {},
     "output_type": "display_data"
    },
    {
     "data": {
      "text/html": [
       "<div id=\"glowscript\" class=\"glowscript\"></div>"
      ],
      "text/plain": [
       "<IPython.core.display.HTML object>"
      ]
     },
     "metadata": {},
     "output_type": "display_data"
    },
    {
     "data": {
      "application/javascript": [
       "if (typeof Jupyter !== \"undefined\") { window.__context = { glowscript_container: $(\"#glowscript\").removeAttr(\"id\")};}else{ element.textContent = ' ';}"
      ],
      "text/plain": [
       "<IPython.core.display.Javascript object>"
      ]
     },
     "metadata": {},
     "output_type": "display_data"
    }
   ],
   "source": [
    "import numpy as np \n",
    "from vpython import * \n",
    "scene = canvas()"
   ]
  },
  {
   "cell_type": "code",
   "execution_count": 3,
   "id": "6501141a",
   "metadata": {},
   "outputs": [
    {
     "data": {
      "application/javascript": [
       "if (typeof Jupyter !== \"undefined\") {require.undef(\"nbextensions/vpython_libraries/glow.min\");}else{element.textContent = ' ';}"
      ],
      "text/plain": [
       "<IPython.core.display.Javascript object>"
      ]
     },
     "metadata": {},
     "output_type": "display_data"
    },
    {
     "data": {
      "application/javascript": [
       "if (typeof Jupyter !== \"undefined\") {require.undef(\"nbextensions/vpython_libraries/glowcomm\");}else{element.textContent = ' ';}"
      ],
      "text/plain": [
       "<IPython.core.display.Javascript object>"
      ]
     },
     "metadata": {},
     "output_type": "display_data"
    },
    {
     "data": {
      "application/javascript": [
       "if (typeof Jupyter !== \"undefined\") {require.undef(\"nbextensions/vpython_libraries/jquery-ui.custom.min\");}else{element.textContent = ' ';}"
      ],
      "text/plain": [
       "<IPython.core.display.Javascript object>"
      ]
     },
     "metadata": {},
     "output_type": "display_data"
    },
    {
     "data": {
      "application/javascript": [
       "if (typeof Jupyter !== \"undefined\") {require([\"nbextensions/vpython_libraries/glow.min\"], function(){console.log(\"GLOW LOADED\");});}else{element.textContent = ' ';}"
      ],
      "text/plain": [
       "<IPython.core.display.Javascript object>"
      ]
     },
     "metadata": {},
     "output_type": "display_data"
    },
    {
     "data": {
      "application/javascript": [
       "if (typeof Jupyter !== \"undefined\") {require([\"nbextensions/vpython_libraries/glowcomm\"], function(){console.log(\"GLOWCOMM LOADED\");});}else{element.textContent = ' ';}"
      ],
      "text/plain": [
       "<IPython.core.display.Javascript object>"
      ]
     },
     "metadata": {},
     "output_type": "display_data"
    },
    {
     "data": {
      "application/javascript": [
       "if (typeof Jupyter !== \"undefined\") {require([\"nbextensions/vpython_libraries/jquery-ui.custom.min\"], function(){console.log(\"JQUERY LOADED\");});}else{element.textContent = ' ';}"
      ],
      "text/plain": [
       "<IPython.core.display.Javascript object>"
      ]
     },
     "metadata": {},
     "output_type": "display_data"
    }
   ],
   "source": [
    "#Definimos constantes de nuestros objetos\n",
    "\n",
    "G=6.67e-11 #Constante gravitacional\n",
    "radio_tierra=6.378e6 \n",
    "masa_tierra=5.972e24\n",
    "masa_luna=7.348e22\n",
    "radio_luna=1.7371e6\n",
    "distancia_t_l=384.4e6\n",
    "masa_navecita=5e4 #Escogimos esta masa igual a la masa de un cohete Falcon 9\n",
    "\n",
    "angulo=47.25 #Angulo con respecto al ecuador con el que despega la nave\n",
    "\n",
    "#Aquí definimos los objetos según las constantes que escribimos\n",
    "\n",
    "navecita= sphere(pos= vector(0,radio_tierra,0), radius=radio_tierra, make_trail=True)\n",
    "tierra = sphere(pos = vector(0,0,0), radius=5*radio_tierra, texture=textures.earth)\n",
    "luna = sphere(pos=tierra.pos+vector(distancia_t_l,0,0), radius=5*radio_luna)\n",
    "\n",
    "#Definimos las velocidades iniciales de los objetos\n",
    "\n",
    "v_luna=np.sqrt(G*masa_tierra/distancia_t_l) #La luna necesita una velocidad inicial, de otra manera no habría órbita\n",
    "v_nave=np.sqrt((2*G*masa_tierra)/distancia_t_l)*7.2 \n",
    "\n",
    "#Ahora definimos los vectores momento de nuestros objetos\n",
    "\n",
    "tierra.p = vector(0,0,0)\n",
    "luna.p = masa_luna*vector(0,v_luna,0)\n",
    "navecita.p= masa_navecita*vector(np.cos(np.radians(angulo))*v_nave,np.sin(np.radians(angulo))*np.sqrt(2)*v_nave,0)\n",
    "\n",
    "#Definimos el tiempo inicial con el tiempo que se tomarán para los cálculos en segundos\n",
    "t = 0\n",
    "dt = 360\n",
    "\n",
    "dia=24*3600\n",
    "\n",
    "while t<dia*2:\n",
    "    rate(100)\n",
    "    \n",
    "    #Definimos posiciones relativas\n",
    "    r = luna.pos - tierra.pos\n",
    "    rT= navecita.pos - tierra.pos\n",
    "    rL= navecita.pos - luna.pos\n",
    "    \n",
    "    #Definimos las fuerzas que sienten los objetos\n",
    "    F = -G*masa_tierra*masa_luna*norm(r)/mag(r)**2\n",
    "    FnT= -G*masa_tierra*masa_navecita*norm(rT)/mag(rT)**2\n",
    "    FmT= -G*masa_luna*masa_navecita*norm(rL)/mag(rL)**2\n",
    "    \n",
    "    #Calculamos los nuevos vectores momento\n",
    "    luna.p = luna.p + F*dt\n",
    "    tierra.p = tierra.p -F*dt\n",
    "    navecita.p = navecita.p + FnT*dt + FmT*dt\n",
    "    \n",
    "    #Actualizamos la posición según los vectores momento\n",
    "    luna.pos = luna.pos + luna.p*dt/masa_luna\n",
    "    tierra.pos = tierra.pos + tierra.p*dt/masa_tierra\n",
    "    navecita.pos = navecita.pos + navecita.p*dt/masa_navecita\n",
    "\n",
    "    t = t + dt"
   ]
  },
  {
   "cell_type": "code",
   "execution_count": null,
   "id": "7a7fb368",
   "metadata": {},
   "outputs": [],
   "source": []
  }
 ],
 "metadata": {
  "kernelspec": {
   "display_name": "Python 3 (ipykernel)",
   "language": "python",
   "name": "python3"
  },
  "language_info": {
   "codemirror_mode": {
    "name": "ipython",
    "version": 3
   },
   "file_extension": ".py",
   "mimetype": "text/x-python",
   "name": "python",
   "nbconvert_exporter": "python",
   "pygments_lexer": "ipython3",
   "version": "3.9.7"
  }
 },
 "nbformat": 4,
 "nbformat_minor": 5
}
