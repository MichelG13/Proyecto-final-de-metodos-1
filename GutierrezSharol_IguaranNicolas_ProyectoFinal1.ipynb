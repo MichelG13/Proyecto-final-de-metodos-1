{
 "cells": [
  {
   "cell_type": "code",
   "execution_count": 1,
   "id": "1d04c5e5",
   "metadata": {},
   "outputs": [],
   "source": [
    "#pip install vpython"
   ]
  },
  {
   "cell_type": "code",
   "execution_count": 2,
   "id": "80969fe5",
   "metadata": {
    "scrolled": false
   },
   "outputs": [
    {
     "data": {
      "text/html": [
       "<div id=\"glowscript\" class=\"glowscript\"></div>"
      ],
      "text/plain": [
       "<IPython.core.display.HTML object>"
      ]
     },
     "metadata": {},
     "output_type": "display_data"
    },
    {
     "data": {
      "application/javascript": [
       "if (typeof Jupyter !== \"undefined\") { window.__context = { glowscript_container: $(\"#glowscript\").removeAttr(\"id\")};}else{ element.textContent = ' ';}"
      ],
      "text/plain": [
       "<IPython.core.display.Javascript object>"
      ]
     },
     "metadata": {},
     "output_type": "display_data"
    },
    {
     "data": {
      "text/html": [
       "<div id=\"glowscript\" class=\"glowscript\"></div>"
      ],
      "text/plain": [
       "<IPython.core.display.HTML object>"
      ]
     },
     "metadata": {},
     "output_type": "display_data"
    },
    {
     "data": {
      "application/javascript": [
       "if (typeof Jupyter !== \"undefined\") { window.__context = { glowscript_container: $(\"#glowscript\").removeAttr(\"id\")};}else{ element.textContent = ' ';}"
      ],
      "text/plain": [
       "<IPython.core.display.Javascript object>"
      ]
     },
     "metadata": {},
     "output_type": "display_data"
    }
   ],
   "source": [
    "import numpy as np \n",
    "from vpython import * \n",
    "scene = canvas()"
   ]
  },
  {
   "cell_type": "code",
   "execution_count": 3,
   "id": "7f9c5324",
   "metadata": {},
   "outputs": [
    {
     "data": {
      "application/javascript": [
       "if (typeof Jupyter !== \"undefined\") {require.undef(\"nbextensions/vpython_libraries/glow.min\");}else{element.textContent = ' ';}"
      ],
      "text/plain": [
       "<IPython.core.display.Javascript object>"
      ]
     },
     "metadata": {},
     "output_type": "display_data"
    },
    {
     "data": {
      "application/javascript": [
       "if (typeof Jupyter !== \"undefined\") {require.undef(\"nbextensions/vpython_libraries/glowcomm\");}else{element.textContent = ' ';}"
      ],
      "text/plain": [
       "<IPython.core.display.Javascript object>"
      ]
     },
     "metadata": {},
     "output_type": "display_data"
    },
    {
     "data": {
      "application/javascript": [
       "if (typeof Jupyter !== \"undefined\") {require.undef(\"nbextensions/vpython_libraries/jquery-ui.custom.min\");}else{element.textContent = ' ';}"
      ],
      "text/plain": [
       "<IPython.core.display.Javascript object>"
      ]
     },
     "metadata": {},
     "output_type": "display_data"
    },
    {
     "data": {
      "application/javascript": [
       "if (typeof Jupyter !== \"undefined\") {require([\"nbextensions/vpython_libraries/glow.min\"], function(){console.log(\"GLOW LOADED\");});}else{element.textContent = ' ';}"
      ],
      "text/plain": [
       "<IPython.core.display.Javascript object>"
      ]
     },
     "metadata": {},
     "output_type": "display_data"
    },
    {
     "data": {
      "application/javascript": [
       "if (typeof Jupyter !== \"undefined\") {require([\"nbextensions/vpython_libraries/glowcomm\"], function(){console.log(\"GLOWCOMM LOADED\");});}else{element.textContent = ' ';}"
      ],
      "text/plain": [
       "<IPython.core.display.Javascript object>"
      ]
     },
     "metadata": {},
     "output_type": "display_data"
    },
    {
     "data": {
      "application/javascript": [
       "if (typeof Jupyter !== \"undefined\") {require([\"nbextensions/vpython_libraries/jquery-ui.custom.min\"], function(){console.log(\"JQUERY LOADED\");});}else{element.textContent = ' ';}"
      ],
      "text/plain": [
       "<IPython.core.display.Javascript object>"
      ]
     },
     "metadata": {},
     "output_type": "display_data"
    }
   ],
   "source": [
    "#Definimos constantes de nuestros objetos\n",
    "\n",
    "G=6.67e-11 #Constante gravitacional\n",
    "radio_tierra=6.378e6 \n",
    "masa_tierra=5.972e24\n",
    "masa_luna=7.348e22\n",
    "radio_luna=1.7371e6\n",
    "distancia_t_l=384.4e6\n",
    "masa_navecita=5e4 #Escogimos esta masa igual a la masa de un cohete Falcon 9\n",
    "\n",
    "angulo=47.25 #Angulo con respecto al ecuador con el que despega la nave\n",
    "\n",
    "#Aquí definimos los objetos según las constantes que escribimos\n",
    "\n",
    "navecita= sphere(pos= vector(0,radio_tierra,0), radius=radio_tierra, make_trail=True)\n",
    "tierra = sphere(pos = vector(0,0,0), radius=5*radio_tierra, texture=textures.earth)\n",
    "luna = sphere(pos=tierra.pos+vector(distancia_t_l,0,0), radius=5*radio_luna)\n",
    "\n",
    "#Definimos las velocidades iniciales de los objetos\n",
    "\n",
    "v_luna=np.sqrt(G*masa_tierra/distancia_t_l) #La luna necesita una velocidad inicial, de otra manera no habría órbita\n",
    "v_nave=np.sqrt((2*G*masa_tierra)/distancia_t_l)*7.2 \n",
    "\n",
    "#Ahora definimos los vectores momento de nuestros objetos\n",
    "\n",
    "tierra.p = vector(0,0,0)\n",
    "luna.p = masa_luna*vector(0,v_luna,0)\n",
    "navecita.p= masa_navecita*vector(np.cos(np.radians(angulo))*v_nave,np.sin(np.radians(angulo))*np.sqrt(2)*v_nave,0)\n",
    "\n",
    "#Definimos el tiempo inicial con el tiempo que se tomarán para los cálculos en segundos\n",
    "t = 0\n",
    "dt = 360\n",
    "\n",
    "dia=24*3600\n",
    "\n",
    "while t<dia*2:\n",
    "    rate(100)\n",
    "    \n",
    "    #Definimos posiciones relativas\n",
    "    r = luna.pos - tierra.pos\n",
    "    rT= navecita.pos - tierra.pos\n",
    "    rL= navecita.pos - luna.pos\n",
    "    \n",
    "    #Definimos las fuerzas que sienten los objetos\n",
    "    F = -G*masa_tierra*masa_luna*norm(r)/mag(r)**2\n",
    "    FnT= -G*masa_tierra*masa_navecita*norm(rT)/mag(rT)**2\n",
    "    FmT= -G*masa_luna*masa_navecita*norm(rL)/mag(rL)**2\n",
    "    \n",
    "    #Calculamos los nuevos vectores momento\n",
    "    luna.p = luna.p + F*dt\n",
    "    tierra.p = tierra.p -F*dt\n",
    "    navecita.p = navecita.p + FnT*dt + FmT*dt\n",
    "    \n",
    "    #Actualizamos la posición según los vectores momento\n",
    "    luna.pos = luna.pos + luna.p*dt/masa_luna\n",
    "    tierra.pos = tierra.pos + tierra.p*dt/masa_tierra\n",
    "    navecita.pos = navecita.pos + navecita.p*dt/masa_navecita\n",
    "\n",
    "    t = t + dt"
   ]
  },
  {
   "cell_type": "code",
   "execution_count": null,
   "id": "2136f98c",
   "metadata": {},
   "outputs": [],
   "source": []
  }
 ],
 "metadata": {
  "kernelspec": {
   "display_name": "Python 3 (ipykernel)",
   "language": "python",
   "name": "python3"
  },
  "language_info": {
   "codemirror_mode": {
    "name": "ipython",
    "version": 3
   },
   "file_extension": ".py",
   "mimetype": "text/x-python",
   "name": "python",
   "nbconvert_exporter": "python",
   "pygments_lexer": "ipython3",
   "version": "3.9.7"
  }
 },
 "nbformat": 4,
 "nbformat_minor": 5
}
